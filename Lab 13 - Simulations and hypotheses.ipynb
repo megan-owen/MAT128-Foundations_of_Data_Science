{
 "cells": [
  {
   "cell_type": "markdown",
   "metadata": {},
   "source": [
    "# Lab 13 - Simulations and hypotheses\n",
    "\n",
    "We will start this lab by simulating some data using the [NumPy](http://www.numpy.org) package.  We import this package with the code `import numpy as np`."
   ]
  },
  {
   "cell_type": "code",
   "execution_count": null,
   "metadata": {
    "collapsed": true,
    "jupyter": {
     "outputs_hidden": true
    }
   },
   "outputs": [],
   "source": [
    "import numpy as np\n",
    "import matplotlib.pyplot as plt\n",
    "import pandas as pd"
   ]
  },
  {
   "cell_type": "markdown",
   "metadata": {},
   "source": [
    "## 13.1 Simulating Data\n",
    "\n",
    "#### Smokers and non-smokers in New York City\n",
    "\n",
    "The smoking rate in New York City was 11.6% in 2016.  This statistic means that in theory if we picked 100 New Yorkers at random, we expect 11.6 of them to smoke.  But what happens in practice if we select 100 random New Yorkers?  We are going to simulate this scenario using code.\n",
    "\n",
    "First we define our population:"
   ]
  },
  {
   "cell_type": "code",
   "execution_count": null,
   "metadata": {
    "tags": []
   },
   "outputs": [],
   "source": [
    "population = [\"Smoker\",\"Non-smoker\"]\n",
    "pop_prob = [0.116,1-0.116]"
   ]
  },
  {
   "cell_type": "markdown",
   "metadata": {},
   "source": [
    "This code defines our population as having two groups `Smoker` and `Non-smoker`, with the probabilities 0.116 and 1-0.116 = 0.884, respectively.  \n",
    "\n",
    "We can generate a random sample of 100 people from our population with the code `np.random.choice(population,p=pop_prob,size=100)`.  Type and run it below."
   ]
  },
  {
   "cell_type": "code",
   "execution_count": null,
   "metadata": {
    "tags": []
   },
   "outputs": [],
   "source": []
  },
  {
   "cell_type": "markdown",
   "metadata": {},
   "source": [
    "The code has simulated 100 people and labeled each as a `Smoker` or `Non-smoker` according to the probabilities we gave.  Try re-running this code.  What happens?\n",
    "\n",
    "Also notice that the word `array` appears at the beginning of the output.  An array is similar to a list or a Series, in that it holds many different values of the same type (integers, strings, etc.). This particular array is an `ndarray`, which is one of the kinds of arrays produced by `NumPy`.  We have to convert the array into a Pandas Series before we can use any Pandas function on it.\n",
    "\n",
    "Next we want to count the number of smokers.  To do this, we:\n",
    "\n",
    "1. assigning this array to a variable\n",
    "2. convert the array into a Pandas Series using `pd.Series(array_variable_name)`\n",
    "3. run `value_counts()` on the Series to count the number of smokers and non-smokers\n",
    "\n",
    "Can figure out how to write this code?"
   ]
  },
  {
   "cell_type": "code",
   "execution_count": null,
   "metadata": {
    "tags": []
   },
   "outputs": [],
   "source": []
  },
  {
   "cell_type": "markdown",
   "metadata": {},
   "source": [
    "### 13.2 Multiple samples\n",
    "\n",
    "To understand the variation in the number of smokers, we will take a bunch of random samples and make a histogram of the counts of smokers in each sample.  To do this, we will need to extract the number of smokers from the `value_counts()` output.\n",
    "\n",
    "Save the output of `value_counts()` above in the variable `counts`. "
   ]
  },
  {
   "cell_type": "code",
   "execution_count": null,
   "metadata": {
    "tags": []
   },
   "outputs": [],
   "source": []
  },
  {
   "cell_type": "markdown",
   "metadata": {},
   "source": [
    "To compute the number of smokers in `counts`, use the code `counts[\"Smoker\"]`:"
   ]
  },
  {
   "cell_type": "code",
   "execution_count": null,
   "metadata": {
    "tags": []
   },
   "outputs": [],
   "source": []
  },
  {
   "cell_type": "markdown",
   "metadata": {},
   "source": [
    "In Lab 11, we sampled multiple times from our dataset and made a histogram of the mean, median, or variance of the samples.  In this lab, we'll simulate multiple samples and make a histogram of the number of smokers in each sample.\n",
    "\n",
    "The pseudo-code for how to do this is:\n",
    "\n",
    "<code>create a new list for the counts\n",
    "loop 200 times:\n",
    "        simulate a new sample\n",
    "        count the number of smokers in the sample\n",
    "        add (append) this smoker count to your list\n",
    "turn the list into a Pandas series and plot a histogram from it</code>\n",
    "\n",
    "Note that \"count the number of smokers in the sample\" will likely be two lines of code."
   ]
  },
  {
   "cell_type": "code",
   "execution_count": null,
   "metadata": {
    "tags": []
   },
   "outputs": [],
   "source": []
  },
  {
   "cell_type": "markdown",
   "metadata": {},
   "source": [
    "<details> <summary>Pattern:</summary>\n",
    "<code>new_list = []\n",
    "for i in range(num_times_to_loop):\n",
    "    sample = np.random.choice(population,p=pop_prob,size=sample_size)\n",
    "    counts = pd.Series(sample).value_counts()\n",
    "    num_in_category = counts[\"category_to_count\"]\n",
    "    new_list.append(num_in_category)\n",
    "pd.Series(new_list).hist()\n",
    "</code>\n",
    "</details>\n",
    "\n",
    "What do you notice about the histogram?  Run your code again.  How does the histogram change (or not change)?\n",
    "\n",
    "What happens when you increase the number of simulations?\n",
    "\n",
    "How likely is it that a sample has 12 smokers?  20 smokers?\n",
    "\n",
    "#### 13.3 Election candidate polling\n",
    "\n",
    "Suppose the true support for a candidate in an election is 53%.  A pollster samples 100 people. How much variation is there in the support for the candidate?  Generate 250 samples of size 100 and plot a histgram of the number of people who would vote for the candidate in each sample."
   ]
  },
  {
   "cell_type": "code",
   "execution_count": null,
   "metadata": {},
   "outputs": [],
   "source": []
  },
  {
   "cell_type": "markdown",
   "metadata": {},
   "source": [
    "How likely is it that sample has only 50 people who will vote for the candidate?  What about 40 people?\n",
    "\n",
    "What happens if you increase the number of people polled?  Does the amount of variation change?"
   ]
  },
  {
   "cell_type": "code",
   "execution_count": null,
   "metadata": {},
   "outputs": [],
   "source": []
  },
  {
   "cell_type": "markdown",
   "metadata": {},
   "source": [
    "When you increase the number of people polled, how likely is it that 50\\% of those people vote for the candidate?  What about 40\\%?\n",
    "\n",
    "### 13.4 Hypotheses\n",
    "\n",
    "A *statistical hypothesis* is a specific, testable assumption about a population that is either true or false.  For example, the smoking rate in New York City has declined since 2016.  We know from above that the smoking rate in 2016 was 11.6\\%.  \n",
    "\n",
    "If the proportion of smokers in New York City today is $p$, how would we translate the hypothesis that \"the smoking rate in New York City has declined since 2016\" into a mathematical statement?\n",
    "\n",
    "<details> <summary>Answer:</summary>\n",
    "$p < 0.116$\n",
    "</details>\n",
    "\n",
    "The statement we are trying to show becomes our *alternative hypothesis*: $H_A: p < 0.116$.  The *null hypothesis* covers the remaining possibilities that the smoking rate has stayed the same or increased: $H_0: p \\geq 0.116$.\n",
    "\n",
    "For the election polling scenario above, suppose the next month we have a hypothesis that the support for the candidate has changed (either increased or decreased).  Let $p$ be the proportion of people who will vote for the candidate now.\n",
    "\n",
    "What is our alternative hypothesis?\n",
    "\n",
    "<details> <summary>Answer:</summary>\n",
    "$H_A: p = 0.53$\n",
    "</details>\n",
    "<br>\n",
    "What is our null hypothesis?\n",
    "\n",
    "<details> <summary>Answer:</summary>\n",
    "$H_0: p \\neq 0.53$\n",
    "</details>"
   ]
  }
 ],
 "metadata": {
  "kernelspec": {
   "display_name": "Python 3 (ipykernel)",
   "language": "python",
   "name": "python3"
  },
  "language_info": {
   "codemirror_mode": {
    "name": "ipython",
    "version": 3
   },
   "file_extension": ".py",
   "mimetype": "text/x-python",
   "name": "python",
   "nbconvert_exporter": "python",
   "pygments_lexer": "ipython3",
   "version": "3.11.4"
  }
 },
 "nbformat": 4,
 "nbformat_minor": 4
}
