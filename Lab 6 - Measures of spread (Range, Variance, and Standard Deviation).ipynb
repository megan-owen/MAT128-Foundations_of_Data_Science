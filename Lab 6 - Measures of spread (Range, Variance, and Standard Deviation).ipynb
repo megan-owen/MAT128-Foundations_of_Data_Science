{
 "cells": [
  {
   "cell_type": "markdown",
   "metadata": {},
   "source": [
    "### Lab 6 - Measures of spread (Range, Variance, and Standard Deviation)\n",
    "\n",
    "In this lab, we will learn how some different ways to measure the *spread* of the data: range, variance, and standard deviation. \n",
    "\n",
    "We will use the 2019 Green Taxi Trip dataset from Lab 4. \n",
    "\n",
    "### 6.1 Reading the data\n",
    "\n",
    "As usual, we will import the matplotlib and pandas packages, and set plots to appear in the Jupyter notebook."
   ]
  },
  {
   "cell_type": "code",
   "execution_count": 2,
   "metadata": {
    "collapsed": true
   },
   "outputs": [],
   "source": [
    "import matplotlib.pyplot as plt\n",
    "import pandas as pd\n",
    "%matplotlib inline"
   ]
  },
  {
   "cell_type": "markdown",
   "metadata": {},
   "source": [
    "Load the data from the CSV file into a dataframe called `taxi`."
   ]
  },
  {
   "cell_type": "code",
   "execution_count": null,
   "metadata": {
    "collapsed": true
   },
   "outputs": [],
   "source": []
  },
  {
   "cell_type": "markdown",
   "metadata": {},
   "source": [
    "Check that the dataframe was created properly by displaying it."
   ]
  },
  {
   "cell_type": "code",
   "execution_count": null,
   "metadata": {
    "collapsed": true
   },
   "outputs": [],
   "source": []
  },
  {
   "cell_type": "markdown",
   "metadata": {},
   "source": [
    "Our measures of spread can only be used with quantitative data.  Which columns contain quantitative data?\n",
    "\n",
    "### 6.2 Mean, median, and shape of trip distances\n",
    "\n",
    "We will look at the `trip_distance` column, which is the distance of the taxi trip in miles.  First let's compute the mean and median, which we learned how to compute in Lab 5.\n",
    "\n",
    "What is the mean trip distance?"
   ]
  },
  {
   "cell_type": "code",
   "execution_count": null,
   "metadata": {
    "collapsed": true
   },
   "outputs": [],
   "source": []
  },
  {
   "cell_type": "markdown",
   "metadata": {},
   "source": [
    "<details> <summary>Answer:</summary>\n",
    "    <code>taxi[\"trip_distance\"].mean()</code>\n",
    "</details>\n",
    "\n",
    "What is the median trip distance?"
   ]
  },
  {
   "cell_type": "code",
   "execution_count": null,
   "metadata": {
    "collapsed": true
   },
   "outputs": [],
   "source": []
  },
  {
   "cell_type": "markdown",
   "metadata": {},
   "source": [
    "<details> <summary>Pattern:</summary>\n",
    "    <code>dataframe_name[\"column_name\"].median()</code>\n",
    "</details>\n",
    "\n",
    "Are the mean and median significantly different?  Why do you think this is the case?  It might be helpful to plot the histogram of the trip distances, to remember their distribution.  Do so below:"
   ]
  },
  {
   "cell_type": "code",
   "execution_count": null,
   "metadata": {
    "collapsed": true
   },
   "outputs": [],
   "source": []
  },
  {
   "cell_type": "markdown",
   "metadata": {},
   "source": [
    "<details> <summary>Pattern:</summary>\n",
    "    <code>dataframe_name[\"column_name\"].hist(bins = 80)</code>\n",
    "</details>\n",
    "\n",
    "The long trips are increasing the mean, but not the median.\n",
    "\n",
    "### 6.3 Range, variance, and standard deviation\n",
    "\n",
    "The first measure of spread is the *range*, which is the calculated as *range = max data value - min data value*\n",
    "\n",
    "We computed max and min data values in Lab 5.  Can you figure out how to compute the range for the trip distance data?  You can store values in variables if you want."
   ]
  },
  {
   "cell_type": "code",
   "execution_count": null,
   "metadata": {
    "collapsed": true
   },
   "outputs": [],
   "source": []
  },
  {
   "cell_type": "markdown",
   "metadata": {},
   "source": [
    "<details> <summary>Answer:</summary>\n",
    "    <code>taxi[\"trip_distance\"].max() - taxi[\"trip_distance\"].min()</code><br>\n",
    "    or<br>\n",
    "    <code>max_dist = taxi[\"trip_distance\"].max()\n",
    "min_dist = taxi[\"trip_distance\"].min()\n",
    "max_dist - min_dist</code>\n",
    "</details>\n",
    "\n",
    "The second measure of spread is *variance*, which measures how spread out the data is from the mean.\n",
    "\n",
    "The formula for variance changes a little, depending on whether the data is a *sample* or a *population*.  By default, Python computes the sample variance.  To compute the sample variance of the trip distance, type `taxi[\"trip_distance\"].var()` below and run it.  "
   ]
  },
  {
   "cell_type": "code",
   "execution_count": null,
   "metadata": {
    "collapsed": true
   },
   "outputs": [],
   "source": []
  },
  {
   "cell_type": "markdown",
   "metadata": {},
   "source": [
    "The *standard deviation* is the square root of the (population) variance or the sample variance.  By default, Python computes the sample standard deviation.  To compute the sample standard deviation of the trip distance, type `taxi[\"trip_distance\"].std()` below and run it."
   ]
  },
  {
   "cell_type": "code",
   "execution_count": null,
   "metadata": {
    "collapsed": true
   },
   "outputs": [],
   "source": []
  },
  {
   "cell_type": "markdown",
   "metadata": {},
   "source": [
    "### 6.4 Chebyshev's Inequality\n",
    "\n",
    "We will use the variance and standard deviation throughout the course. One direct application of the standard deviation is that 75% of the data values are within 2 standard deviations of the mean, and 89% of the data values are within 3 standard deviations of the mean.  This rule is called *Chebyshev's Inequality*.\n",
    "\n",
    "So if we save the (sample) standard deviation of the trip distances in the variable `sigma` and the mean of the trip distances in the variable `mu`, then 75% of the data is greater than `mu - 2*sigma` but less than `mu + 2*sigma`.  Compute `mu - 2*sigma` and `mu + 2*sigma` for the trip distances.  Does this interval make sense?"
   ]
  },
  {
   "cell_type": "code",
   "execution_count": null,
   "metadata": {
    "collapsed": true
   },
   "outputs": [],
   "source": []
  },
  {
   "cell_type": "markdown",
   "metadata": {},
   "source": [
    "<details> <summary>Answer:</summary>\n",
    "    <code>mu = taxi[\"trip_distance\"].mean()\n",
    "sigma = taxi[\"trip_distance\"].std()\n",
    "mu-2*sigma\n",
    "mu + 2*sigma</code>\n",
    "</details>\n",
    "\n",
    "#### Challenges:\n",
    "- What is the range, sample variance, and sample standard deviation of the number of passengers?\n",
    "- What is the range, sample variance, and sample standard deviation of the fare amount?\n",
    "- Use Chebyshev's inequality to determine the interval that contains 94% of the trip distance data."
   ]
  }
 ],
 "metadata": {
  "kernelspec": {
   "display_name": "Python 3",
   "language": "python",
   "name": "python3"
  },
  "language_info": {
   "codemirror_mode": {
    "name": "ipython",
    "version": 3
   },
   "file_extension": ".py",
   "mimetype": "text/x-python",
   "name": "python",
   "nbconvert_exporter": "python",
   "pygments_lexer": "ipython3",
   "version": "3.6.3"
  }
 },
 "nbformat": 4,
 "nbformat_minor": 2
}
