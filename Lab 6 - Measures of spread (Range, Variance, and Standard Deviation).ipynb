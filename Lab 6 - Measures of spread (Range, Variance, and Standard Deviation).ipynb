{
 "cells": [
  {
   "cell_type": "markdown",
   "metadata": {},
   "source": [
    "### Lab 6 - Measures of spread (Range, Variance, and Standard Deviation)\n",
    "\n",
    "In this lab, we will learn how some different ways to measure the *spread* of the data: range, variance, and standard deviation.\n",
    "\n",
    "### 6.1 Properties of the variance\n",
    "First, we'll look at some properties of the variance with made-up data.\n",
    "\n",
    "Import the matplotlib and pandas packages, and set plots to appear in the Jupyter notebook."
   ]
  },
  {
   "cell_type": "code",
   "execution_count": null,
   "metadata": {
    "collapsed": true,
    "jupyter": {
     "outputs_hidden": true
    }
   },
   "outputs": [],
   "source": [
    "import matplotlib.pyplot as plt\n",
    "import pandas as pd"
   ]
  },
  {
   "cell_type": "markdown",
   "metadata": {},
   "source": [
    "The following code creates a new dataframe called `data` containing the values 3, 5, 2, 7, 7."
   ]
  },
  {
   "cell_type": "code",
   "execution_count": null,
   "metadata": {
    "collapsed": true,
    "jupyter": {
     "outputs_hidden": true
    }
   },
   "outputs": [],
   "source": [
    "data = pd.DataFrame([3,5,2,7,7])"
   ]
  },
  {
   "cell_type": "markdown",
   "metadata": {},
   "source": [
    "Display the dataframe `data`."
   ]
  },
  {
   "cell_type": "code",
   "execution_count": null,
   "metadata": {},
   "outputs": [],
   "source": []
  },
  {
   "cell_type": "markdown",
   "metadata": {},
   "source": [
    "<details> <summary>Hint:</summary>\n",
    "    We display this dataframe the same ways as dataframes made from CSV file - by typing the variable name and running the cell.\n",
    "</details>\n",
    "\n",
    "Is this what you expected to display?\n",
    "\n",
    "To compute the sample variance of `data`, run the code below."
   ]
  },
  {
   "cell_type": "code",
   "execution_count": null,
   "metadata": {},
   "outputs": [],
   "source": [
    "data.var()"
   ]
  },
  {
   "cell_type": "markdown",
   "metadata": {},
   "source": [
    "What is the sample variance if all the data is the same number?  For example, if the data is 2,2,2,2,2.\n",
    "\n",
    "We can verify our guess with the code below."
   ]
  },
  {
   "cell_type": "code",
   "execution_count": null,
   "metadata": {},
   "outputs": [],
   "source": [
    "data = pd.DataFrame([2,2,2,2,2])\n",
    "data.var()"
   ]
  },
  {
   "cell_type": "markdown",
   "metadata": {},
   "source": [
    "Let's return to the original made-up data set.  Can you change, add, and/or remove numbers to increase its sample variance?   Try making the changes below. The sample variance of the original data is 5.2."
   ]
  },
  {
   "cell_type": "code",
   "execution_count": null,
   "metadata": {},
   "outputs": [],
   "source": [
    "data = pd.DataFrame([3,5,2,7,7])\n",
    "data.var()"
   ]
  },
  {
   "cell_type": "markdown",
   "metadata": {},
   "source": [
    "Now, try changing, adding, and/or removing numbers to decrease the variance.  The sample variance of the original data is 5.2."
   ]
  },
  {
   "cell_type": "code",
   "execution_count": null,
   "metadata": {
    "collapsed": true,
    "jupyter": {
     "outputs_hidden": true
    }
   },
   "outputs": [],
   "source": [
    "data = pd.DataFrame([3,5,2,7,7])\n",
    "data.var()"
   ]
  },
  {
   "cell_type": "markdown",
   "metadata": {},
   "source": [
    "The above exercises help you understand how the sample variance is affected by changes in the data."
   ]
  },
  {
   "cell_type": "markdown",
   "metadata": {},
   "source": [
    "### 6.2 Reading the data\n",
    "We'll now look at range, variance, and standard deviation using the Green Taxi Trip dataset from Lab 4.\n",
    "\n",
    "Load the data from the CSV file into a dataframe called `taxi`."
   ]
  },
  {
   "cell_type": "code",
   "execution_count": null,
   "metadata": {
    "tags": []
   },
   "outputs": [],
   "source": []
  },
  {
   "cell_type": "markdown",
   "metadata": {},
   "source": [
    "Check that the dataframe was created properly by displaying it."
   ]
  },
  {
   "cell_type": "code",
   "execution_count": null,
   "metadata": {
    "tags": []
   },
   "outputs": [],
   "source": []
  },
  {
   "cell_type": "markdown",
   "metadata": {},
   "source": [
    "Our measures of spread can only be used with quantitative data.  Which columns contain quantitative data?\n",
    "\n",
    "### 6.3 Mean, median, and shape of trip distances\n",
    "\n",
    "We will look at the `trip_distance` column, which is the distance of the taxi trip in miles.  First let's compute the mean and median, which we learned how to compute in Lab 5.\n",
    "\n",
    "What is the mean trip distance?"
   ]
  },
  {
   "cell_type": "code",
   "execution_count": null,
   "metadata": {
    "collapsed": true,
    "jupyter": {
     "outputs_hidden": true
    }
   },
   "outputs": [],
   "source": []
  },
  {
   "cell_type": "markdown",
   "metadata": {},
   "source": [
    "<details> <summary>Pattern:</summary>\n",
    "    <code>df[\"column_name\"].mean()</code>\n",
    "</details>\n",
    "\n",
    "What is the median trip distance?"
   ]
  },
  {
   "cell_type": "code",
   "execution_count": null,
   "metadata": {
    "collapsed": true,
    "jupyter": {
     "outputs_hidden": true
    }
   },
   "outputs": [],
   "source": []
  },
  {
   "cell_type": "markdown",
   "metadata": {},
   "source": [
    "<details> <summary>Pattern:</summary>\n",
    "    <code>dataframe_name[\"column_name\"].median()</code>\n",
    "</details>\n",
    "\n",
    "Are the mean and median significantly different?  Why do you think this is the case?  It might be helpful to plot the histogram of the trip distances, to remember their distribution.  Do so below:"
   ]
  },
  {
   "cell_type": "code",
   "execution_count": null,
   "metadata": {
    "collapsed": true,
    "jupyter": {
     "outputs_hidden": true
    }
   },
   "outputs": [],
   "source": []
  },
  {
   "cell_type": "markdown",
   "metadata": {},
   "source": [
    "<details> <summary>Pattern:</summary>\n",
    "    <code>dataframe_name[\"column_name\"].hist(bins = 80)</code>\n",
    "</details>\n",
    "\n",
    "The long trips are increasing the mean, but not the median.\n",
    "\n",
    "### 6.4 Range, variance, and standard deviation\n",
    "\n",
    "The first measure of spread is the *range*, which is the calculated as *range = max data value - min data value*\n",
    "\n",
    "We computed max and min data values in Lab 5.  Can you figure out how to compute the range for the trip distance data?  You can store values in variables if you want."
   ]
  },
  {
   "cell_type": "code",
   "execution_count": null,
   "metadata": {
    "collapsed": true,
    "jupyter": {
     "outputs_hidden": true
    }
   },
   "outputs": [],
   "source": []
  },
  {
   "cell_type": "markdown",
   "metadata": {},
   "source": [
    "<details> <summary>Pattern:</summary>\n",
    "    <code>df[\"column_name\"].max() - df[\"column_name\"].min()</code><br>\n",
    "    or<br>\n",
    "    <code>max_value = df[\"column_name\"].max()\n",
    "min_value = df[\"column_name\"].min()\n",
    "max_value - min_value</code>\n",
    "</details>\n",
    "\n",
    "The second measure of spread is *variance*, which measures how spread out the data is from the mean.\n",
    "\n",
    "The formula for variance changes a little, depending on whether the data is a *sample* or a *population*.  By default, Python computes the sample variance.  To compute the sample variance of the trip distance, type `taxi[\"trip_distance\"].var()` below and run it.  "
   ]
  },
  {
   "cell_type": "code",
   "execution_count": null,
   "metadata": {
    "tags": []
   },
   "outputs": [],
   "source": []
  },
  {
   "cell_type": "markdown",
   "metadata": {},
   "source": [
    "The *standard deviation* is the square root of the (population) variance or the sample variance.  By default, Python computes the sample standard deviation.  To compute the sample standard deviation of the trip distance, type `taxi[\"trip_distance\"].std()` below and run it."
   ]
  },
  {
   "cell_type": "code",
   "execution_count": null,
   "metadata": {
    "tags": []
   },
   "outputs": [],
   "source": []
  },
  {
   "cell_type": "markdown",
   "metadata": {},
   "source": [
    "### 6.5 Chebyshev's Inequality\n",
    "\n",
    "We will use the variance and standard deviation throughout the course. One direct application of the standard deviation is that 75% of the data values are within 2 standard deviations of the mean, and 89% of the data values are within 3 standard deviations of the mean.  This rule is called *Chebyshev's Inequality*.\n",
    "\n",
    "Assign the (sample) standard deviation of the trip distances to the variable `s` and the (sample) mean of the trip distances to the variable `xbar`.  "
   ]
  },
  {
   "cell_type": "code",
   "execution_count": null,
   "metadata": {},
   "outputs": [],
   "source": []
  },
  {
   "cell_type": "markdown",
   "metadata": {},
   "source": [
    "<details> <summary>Answer:</summary>\n",
    "    <code>xbar = taxi[\"trip_distance\"].mean()\n",
    "s = taxi[\"trip_distance\"].std()\n",
    "</code>\n",
    "</details>\n",
    "\n",
    "Then 75% of the data is greater than `xbar - 2*s` but less than `xbar + 2*s`.  Compute `xbar - 2*s` and `xbar + 2*s` for the trip distances."
   ]
  },
  {
   "cell_type": "code",
   "execution_count": null,
   "metadata": {
    "tags": []
   },
   "outputs": [],
   "source": []
  },
  {
   "cell_type": "markdown",
   "metadata": {},
   "source": [
    "Does this interval make sense?\n",
    "\n",
    "#### Challenges:\n",
    "- What is the range, sample variance, and sample standard deviation of the number of passengers?\n",
    "- What is the range, sample variance, and sample standard deviation of the fare amount?\n",
    "- Use Chebyshev's inequality to determine the interval that contains 94% of the trip distance data."
   ]
  },
  {
   "cell_type": "code",
   "execution_count": null,
   "metadata": {},
   "outputs": [],
   "source": []
  }
 ],
 "metadata": {
  "kernelspec": {
   "display_name": "Python 3 (ipykernel)",
   "language": "python",
   "name": "python3"
  },
  "language_info": {
   "codemirror_mode": {
    "name": "ipython",
    "version": 3
   },
   "file_extension": ".py",
   "mimetype": "text/x-python",
   "name": "python",
   "nbconvert_exporter": "python",
   "pygments_lexer": "ipython3",
   "version": "3.11.4"
  }
 },
 "nbformat": 4,
 "nbformat_minor": 4
}
