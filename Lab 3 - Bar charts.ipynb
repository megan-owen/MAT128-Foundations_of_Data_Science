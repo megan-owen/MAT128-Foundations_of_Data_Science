{
 "cells": [
  {
   "cell_type": "markdown",
   "metadata": {},
   "source": [
    "## Lab 3 - Data types, bar charts, and green taxi trips\n",
    "\n",
    "### Theory: Statistical data types and distributions\n",
    "\n",
    "#### Statistical data types\n",
    "The statistical types of our data tells us what kinds of analyses and visualizations we can do.  The two main types of data in this class:\n",
    "- *qualitative*: non-numerical information.  We mainly use *categorical* data, in which the data values are categories (ex. marital status, grade level, zip code)\n",
    "- *quantitative*: numerical information that measures something.  Quantitative data is further divided into:\n",
    "   - *discrete*: finite or countably infinite number of possible values. Ex. number of books, number of people\n",
    "   - *continuous*: possible values contain an interval of the real numbers or are uncountably infinite.  Ex. weight of pigs, height of trees\n",
    "\n",
    "Data are considered continuous if it is only limitations in the measuring tool that make it look discrete (ex. measuring the height of trees to the nearest inch).\n",
    "\n",
    "#### Distributions\n",
    "\n",
    "The *distribution* of the data in the column refers to which data values are more common and less common.  We visualize the distribution of categorial data using a *bar chart*.\n",
    "\n",
    "## The Lab\n",
    "\n",
    "Green taxis opporate primarily in upper Manhattan and the other four boroughs, and NYC Open Data has a dataset of all green taxi trips taken in 2023.  Bar \n",
    "\n",
    "### 3.1 Getting the data\n",
    "The NYC Open Data datast of all 2023 green taxi trips is here: [https://data.cityofnewyork.us/Transportation/2023-Green-Taxi-Trip-Data/peyi-gg4n/about_data](https://data.cityofnewyork.us/Transportation/2023-Green-Taxi-Trip-Data/peyi-gg4n/about_data)\n",
    "\n",
    "Click the \"Actions\" button and then select \"Query data\" to view the first few rows of the data.\n",
    "\n",
    "The dataset contains is very large, so as in Lab 2, we will filter the data to make the dataset smaller.  We will select only trips that started on Sept. 3, 2023.  To do this:\n",
    "- Below the data table, click on the dropdown box that reads \"Select a column to filter...\"\n",
    "- Select \"lpep_pickup_datetime\"\n",
    "- Change the first date to read \"2023 Sep 03 12:00:00 AM\"\n",
    "- Change the second date to read \"2023 Sep 03 11:59:59 PM\"\n",
    "- Click the \"Apply\" button at the bottom of the page.\n",
    "- Check the data table at the top now only has trips from Sept. 3, 2023\n",
    "\n",
    "To download the file,\n",
    "- Click on the \"Export\" button on the top right.\n",
    "- Click the \"Download\" button in the pop-up box.\n",
    "\n",
    "Upload your CSV file to Jupyter Hub, and open it to see that it has been downloaded correctly."
   ]
  },
  {
   "cell_type": "markdown",
   "metadata": {},
   "source": [
    "### 3.2 Loading the data\n",
    "\n",
    "As in Labs 1 and 2, we need to import the matplotlib and pandas packages.  Run the code below to do this."
   ]
  },
  {
   "cell_type": "code",
   "execution_count": null,
   "metadata": {
    "tags": []
   },
   "outputs": [],
   "source": [
    "import matplotlib.pyplot as plt\n",
    "import pandas as pd"
   ]
  },
  {
   "cell_type": "markdown",
   "metadata": {},
   "source": [
    "Can you write the code to store the data from the CSV file in a dataframe called `taxi`?  \n",
    "\n",
    "Getting the data from a file is called *reading the file*.  Do not worry about parsing the date columns, because we will not use them in this lab and it is time consuming. "
   ]
  },
  {
   "cell_type": "code",
   "execution_count": null,
   "metadata": {
    "tags": []
   },
   "outputs": [],
   "source": []
  },
  {
   "cell_type": "markdown",
   "metadata": {},
   "source": [
    "<details> <summary>Pattern:</summary>\n",
    "df = pd.read_csv(\"filename_to_read.csv\")\n",
    "</details>"
   ]
  },
  {
   "cell_type": "markdown",
   "metadata": {},
   "source": [
    "Check that the dataframe was created correctly by displaying the first five rows:"
   ]
  },
  {
   "cell_type": "code",
   "execution_count": null,
   "metadata": {},
   "outputs": [],
   "source": []
  },
  {
   "cell_type": "markdown",
   "metadata": {},
   "source": [
    "<details> <summary>Hint:</summary>\n",
    "    Use the head() function.\n",
    "</details>"
   ]
  },
  {
   "cell_type": "markdown",
   "metadata": {},
   "source": [
    "Look at the PDF with the description of the dataframe columns posted with the lab.  Which columns are qualitative variables?"
   ]
  },
  {
   "cell_type": "markdown",
   "metadata": {},
   "source": [
    "### 3.3 Bar Charts\n",
    "\n",
    "Bar charts are used to graph qualitative (categorical) data.  A bar chart visually shows the number of pieces of data in  each category.\n",
    "\n",
    "\n",
    "We will plot the `payment_type` column as a bar chart.  First we need to count how many trips used each payment type.  As in Lab 2, write a piece of code to display only the `payment_type` column."
   ]
  },
  {
   "cell_type": "code",
   "execution_count": null,
   "metadata": {},
   "outputs": [],
   "source": []
  },
  {
   "cell_type": "markdown",
   "metadata": {},
   "source": [
    "<details> <summary>Pattern:</summary>\n",
    "df[\"column_name\"]\n",
    "</details>"
   ]
  },
  {
   "cell_type": "markdown",
   "metadata": {},
   "source": [
    "We can count the number of times each different value (ex. 1, 2) appears in the `payment_type` column using the code `taxi[\"payment_type\"].value_counts()`. Type and run this code below."
   ]
  },
  {
   "cell_type": "code",
   "execution_count": null,
   "metadata": {},
   "outputs": [],
   "source": []
  },
  {
   "cell_type": "markdown",
   "metadata": {},
   "source": [
    "What was the most used payment type?  Refer to the column information PDF to see which payment type corresponds to which number.\n",
    "\n",
    "We can visualize these counts with a bar chart.  First we will store the counts of the values in a variable.\n",
    "Type and run the following code: `pay_counts = taxi[\"payment_type\"].value_counts()`"
   ]
  },
  {
   "cell_type": "code",
   "execution_count": null,
   "metadata": {},
   "outputs": [],
   "source": []
  },
  {
   "cell_type": "markdown",
   "metadata": {},
   "source": [
    "What happened?  \n",
    "\n",
    "The code didn't display anything, so it looks like nothing happened.  However, we can check that the variable was created by typing its name and running the code:"
   ]
  },
  {
   "cell_type": "code",
   "execution_count": null,
   "metadata": {},
   "outputs": [],
   "source": []
  },
  {
   "cell_type": "markdown",
   "metadata": {},
   "source": [
    "Next, we will plot these counts.  Type and run the code `pay_counts.plot(kind = \"bar\")` below."
   ]
  },
  {
   "cell_type": "code",
   "execution_count": null,
   "metadata": {},
   "outputs": [],
   "source": []
  },
  {
   "cell_type": "markdown",
   "metadata": {},
   "source": [
    "Why can are the bars for payment types 3, 4, 5, and 6 either missing or very small?"
   ]
  },
  {
   "cell_type": "markdown",
   "metadata": {},
   "source": [
    "Try typing and running the following code below `pay_counts.plot(kind = \"barh\")`. It is the same code but with `barh` instead of `bar`.  "
   ]
  },
  {
   "cell_type": "code",
   "execution_count": null,
   "metadata": {},
   "outputs": [],
   "source": []
  },
  {
   "cell_type": "markdown",
   "metadata": {},
   "source": [
    "What does the parameter `kind = \"barh\"` do?\n",
    "\n",
    "### 3.4 Rate code bar chart\n",
    "\n",
    "The `RatecodeID` column holds information about how the trip fare is calculated.  For example, 1 means it is calculated using the standard rate, while 2 means it is the flat rate for JFK to/from Manhattan. See the column information for a description of the different rate codes.\n",
    "\n",
    "Can you write code to make a bar chart the number of trips using each `RatecodeID`?"
   ]
  },
  {
   "cell_type": "code",
   "execution_count": null,
   "metadata": {},
   "outputs": [],
   "source": []
  },
  {
   "cell_type": "markdown",
   "metadata": {},
   "source": [
    "<details> <summary>Pattern:</summary>\n",
    "    counts = df['column_name'].value_counts()\n",
    "    \n",
    "    counts.plot.bar()\n",
    "</details>\n",
    "\n",
    "What rate code is used the most?  Does this make sense?  What rate code is used the second most?"
   ]
  },
  {
   "cell_type": "markdown",
   "metadata": {},
   "source": [
    "#### Challenges\n",
    "- Make a bar chart of one of the other categorical columns in `taxi` dataframe.\n",
    "- We can make different types of plots by changing the parameter for the kind of plot.  A list of all of the different kinds of plots is here: [https://pandas.pydata.org/pandas-docs/stable/user_guide/visualization.html#other-plots](https://pandas.pydata.org/pandas-docs/stable/user_guide/visualization.html#other-plots). Can you make a pie plot for the payment type?\n",
    "- Find another dataset on NYC Open Data with qualitative (categorical) data and make a bar chart of that data."
   ]
  }
 ],
 "metadata": {
  "kernelspec": {
   "display_name": "Python 3 (ipykernel)",
   "language": "python",
   "name": "python3"
  },
  "language_info": {
   "codemirror_mode": {
    "name": "ipython",
    "version": 3
   },
   "file_extension": ".py",
   "mimetype": "text/x-python",
   "name": "python",
   "nbconvert_exporter": "python",
   "pygments_lexer": "ipython3",
   "version": "3.11.4"
  }
 },
 "nbformat": 4,
 "nbformat_minor": 4
}
